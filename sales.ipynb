{
 "cells": [
  {
   "cell_type": "code",
   "execution_count": 11,
   "id": "b5655bff",
   "metadata": {},
   "outputs": [],
   "source": [
    "import numpy as np\n",
    "import pandas as pd\n",
    "import matplotlib.pyplot as plt"
   ]
  },
  {
   "cell_type": "code",
   "execution_count": 12,
   "id": "e519df4a",
   "metadata": {},
   "outputs": [
    {
     "data": {
      "text/html": [
       "<div>\n",
       "<style scoped>\n",
       "    .dataframe tbody tr th:only-of-type {\n",
       "        vertical-align: middle;\n",
       "    }\n",
       "\n",
       "    .dataframe tbody tr th {\n",
       "        vertical-align: top;\n",
       "    }\n",
       "\n",
       "    .dataframe thead th {\n",
       "        text-align: right;\n",
       "    }\n",
       "</style>\n",
       "<table border=\"1\" class=\"dataframe\">\n",
       "  <thead>\n",
       "    <tr style=\"text-align: right;\">\n",
       "      <th></th>\n",
       "      <th>Campaign</th>\n",
       "      <th>TV</th>\n",
       "      <th>Radio</th>\n",
       "      <th>Newspaper</th>\n",
       "      <th>Sales</th>\n",
       "    </tr>\n",
       "  </thead>\n",
       "  <tbody>\n",
       "    <tr>\n",
       "      <th>0</th>\n",
       "      <td>camp1</td>\n",
       "      <td>230.1</td>\n",
       "      <td>37.8</td>\n",
       "      <td>69.2</td>\n",
       "      <td>22.1</td>\n",
       "    </tr>\n",
       "    <tr>\n",
       "      <th>1</th>\n",
       "      <td>camp2</td>\n",
       "      <td>44.5</td>\n",
       "      <td>39.3</td>\n",
       "      <td>45.1</td>\n",
       "      <td>10.4</td>\n",
       "    </tr>\n",
       "    <tr>\n",
       "      <th>2</th>\n",
       "      <td>camp3</td>\n",
       "      <td>17.2</td>\n",
       "      <td>45.9</td>\n",
       "      <td>69.3</td>\n",
       "      <td>12.0</td>\n",
       "    </tr>\n",
       "    <tr>\n",
       "      <th>3</th>\n",
       "      <td>camp4</td>\n",
       "      <td>151.5</td>\n",
       "      <td>41.3</td>\n",
       "      <td>58.5</td>\n",
       "      <td>16.5</td>\n",
       "    </tr>\n",
       "    <tr>\n",
       "      <th>4</th>\n",
       "      <td>camp5</td>\n",
       "      <td>180.8</td>\n",
       "      <td>10.8</td>\n",
       "      <td>58.4</td>\n",
       "      <td>17.9</td>\n",
       "    </tr>\n",
       "    <tr>\n",
       "      <th>...</th>\n",
       "      <td>...</td>\n",
       "      <td>...</td>\n",
       "      <td>...</td>\n",
       "      <td>...</td>\n",
       "      <td>...</td>\n",
       "    </tr>\n",
       "    <tr>\n",
       "      <th>195</th>\n",
       "      <td>camp196</td>\n",
       "      <td>38.2</td>\n",
       "      <td>3.7</td>\n",
       "      <td>13.8</td>\n",
       "      <td>7.6</td>\n",
       "    </tr>\n",
       "    <tr>\n",
       "      <th>196</th>\n",
       "      <td>camp197</td>\n",
       "      <td>94.2</td>\n",
       "      <td>4.9</td>\n",
       "      <td>8.1</td>\n",
       "      <td>14.0</td>\n",
       "    </tr>\n",
       "    <tr>\n",
       "      <th>197</th>\n",
       "      <td>camp198</td>\n",
       "      <td>177.0</td>\n",
       "      <td>9.3</td>\n",
       "      <td>6.4</td>\n",
       "      <td>14.8</td>\n",
       "    </tr>\n",
       "    <tr>\n",
       "      <th>198</th>\n",
       "      <td>camp199</td>\n",
       "      <td>283.6</td>\n",
       "      <td>42.0</td>\n",
       "      <td>66.2</td>\n",
       "      <td>25.5</td>\n",
       "    </tr>\n",
       "    <tr>\n",
       "      <th>199</th>\n",
       "      <td>camp200</td>\n",
       "      <td>232.1</td>\n",
       "      <td>8.6</td>\n",
       "      <td>8.7</td>\n",
       "      <td>18.4</td>\n",
       "    </tr>\n",
       "  </tbody>\n",
       "</table>\n",
       "<p>200 rows × 5 columns</p>\n",
       "</div>"
      ],
      "text/plain": [
       "    Campaign     TV  Radio  Newspaper  Sales\n",
       "0      camp1  230.1   37.8       69.2   22.1\n",
       "1      camp2   44.5   39.3       45.1   10.4\n",
       "2      camp3   17.2   45.9       69.3   12.0\n",
       "3      camp4  151.5   41.3       58.5   16.5\n",
       "4      camp5  180.8   10.8       58.4   17.9\n",
       "..       ...    ...    ...        ...    ...\n",
       "195  camp196   38.2    3.7       13.8    7.6\n",
       "196  camp197   94.2    4.9        8.1   14.0\n",
       "197  camp198  177.0    9.3        6.4   14.8\n",
       "198  camp199  283.6   42.0       66.2   25.5\n",
       "199  camp200  232.1    8.6        8.7   18.4\n",
       "\n",
       "[200 rows x 5 columns]"
      ]
     },
     "execution_count": 12,
     "metadata": {},
     "output_type": "execute_result"
    }
   ],
   "source": [
    "# Read the Excel file\n",
    "df = pd.read_excel('advertising_sales_data.xlsx')\n",
    "\n",
    "# Save as CSV\n",
    "df.to_csv('advertising_sales_data.csv', index=False)\n",
    "df"
   ]
  },
  {
   "cell_type": "code",
   "execution_count": 13,
   "id": "e8c340a2",
   "metadata": {},
   "outputs": [
    {
     "data": {
      "text/plain": [
       "Campaign     0\n",
       "TV           0\n",
       "Radio        2\n",
       "Newspaper    0\n",
       "Sales        0\n",
       "dtype: int64"
      ]
     },
     "execution_count": 13,
     "metadata": {},
     "output_type": "execute_result"
    }
   ],
   "source": [
    "df.isnull().sum()"
   ]
  },
  {
   "cell_type": "code",
   "execution_count": 14,
   "id": "d206b0d1",
   "metadata": {},
   "outputs": [
    {
     "data": {
      "text/html": [
       "<div>\n",
       "<style scoped>\n",
       "    .dataframe tbody tr th:only-of-type {\n",
       "        vertical-align: middle;\n",
       "    }\n",
       "\n",
       "    .dataframe tbody tr th {\n",
       "        vertical-align: top;\n",
       "    }\n",
       "\n",
       "    .dataframe thead th {\n",
       "        text-align: right;\n",
       "    }\n",
       "</style>\n",
       "<table border=\"1\" class=\"dataframe\">\n",
       "  <thead>\n",
       "    <tr style=\"text-align: right;\">\n",
       "      <th></th>\n",
       "      <th>TV</th>\n",
       "      <th>Radio</th>\n",
       "      <th>Newspaper</th>\n",
       "      <th>Sales</th>\n",
       "    </tr>\n",
       "  </thead>\n",
       "  <tbody>\n",
       "    <tr>\n",
       "      <th>0</th>\n",
       "      <td>230.1</td>\n",
       "      <td>37.8</td>\n",
       "      <td>69.2</td>\n",
       "      <td>22.1</td>\n",
       "    </tr>\n",
       "    <tr>\n",
       "      <th>1</th>\n",
       "      <td>44.5</td>\n",
       "      <td>39.3</td>\n",
       "      <td>45.1</td>\n",
       "      <td>10.4</td>\n",
       "    </tr>\n",
       "    <tr>\n",
       "      <th>2</th>\n",
       "      <td>17.2</td>\n",
       "      <td>45.9</td>\n",
       "      <td>69.3</td>\n",
       "      <td>12.0</td>\n",
       "    </tr>\n",
       "    <tr>\n",
       "      <th>3</th>\n",
       "      <td>151.5</td>\n",
       "      <td>41.3</td>\n",
       "      <td>58.5</td>\n",
       "      <td>16.5</td>\n",
       "    </tr>\n",
       "    <tr>\n",
       "      <th>4</th>\n",
       "      <td>180.8</td>\n",
       "      <td>10.8</td>\n",
       "      <td>58.4</td>\n",
       "      <td>17.9</td>\n",
       "    </tr>\n",
       "    <tr>\n",
       "      <th>...</th>\n",
       "      <td>...</td>\n",
       "      <td>...</td>\n",
       "      <td>...</td>\n",
       "      <td>...</td>\n",
       "    </tr>\n",
       "    <tr>\n",
       "      <th>195</th>\n",
       "      <td>38.2</td>\n",
       "      <td>3.7</td>\n",
       "      <td>13.8</td>\n",
       "      <td>7.6</td>\n",
       "    </tr>\n",
       "    <tr>\n",
       "      <th>196</th>\n",
       "      <td>94.2</td>\n",
       "      <td>4.9</td>\n",
       "      <td>8.1</td>\n",
       "      <td>14.0</td>\n",
       "    </tr>\n",
       "    <tr>\n",
       "      <th>197</th>\n",
       "      <td>177.0</td>\n",
       "      <td>9.3</td>\n",
       "      <td>6.4</td>\n",
       "      <td>14.8</td>\n",
       "    </tr>\n",
       "    <tr>\n",
       "      <th>198</th>\n",
       "      <td>283.6</td>\n",
       "      <td>42.0</td>\n",
       "      <td>66.2</td>\n",
       "      <td>25.5</td>\n",
       "    </tr>\n",
       "    <tr>\n",
       "      <th>199</th>\n",
       "      <td>232.1</td>\n",
       "      <td>8.6</td>\n",
       "      <td>8.7</td>\n",
       "      <td>18.4</td>\n",
       "    </tr>\n",
       "  </tbody>\n",
       "</table>\n",
       "<p>200 rows × 4 columns</p>\n",
       "</div>"
      ],
      "text/plain": [
       "        TV  Radio  Newspaper  Sales\n",
       "0    230.1   37.8       69.2   22.1\n",
       "1     44.5   39.3       45.1   10.4\n",
       "2     17.2   45.9       69.3   12.0\n",
       "3    151.5   41.3       58.5   16.5\n",
       "4    180.8   10.8       58.4   17.9\n",
       "..     ...    ...        ...    ...\n",
       "195   38.2    3.7       13.8    7.6\n",
       "196   94.2    4.9        8.1   14.0\n",
       "197  177.0    9.3        6.4   14.8\n",
       "198  283.6   42.0       66.2   25.5\n",
       "199  232.1    8.6        8.7   18.4\n",
       "\n",
       "[200 rows x 4 columns]"
      ]
     },
     "execution_count": 14,
     "metadata": {},
     "output_type": "execute_result"
    }
   ],
   "source": [
    "df = df.drop(columns='Campaign')\n",
    "df"
   ]
  },
  {
   "cell_type": "code",
   "execution_count": 15,
   "id": "e588aace",
   "metadata": {},
   "outputs": [],
   "source": [
    "from sklearn.impute import SimpleImputer\n",
    "from sklearn.model_selection import train_test_split"
   ]
  },
  {
   "cell_type": "code",
   "execution_count": 16,
   "id": "a9c3125c",
   "metadata": {},
   "outputs": [],
   "source": [
    "X = df.iloc[:,0:3]\n",
    "y = df.iloc[:,-1]\n"
   ]
  },
  {
   "cell_type": "code",
   "execution_count": 17,
   "id": "6cfe4940",
   "metadata": {},
   "outputs": [],
   "source": [
    "# Impute missing values in X2\n",
    "si = SimpleImputer(strategy='mean')\n",
    "X_imputed = si.fit_transform(X)"
   ]
  },
  {
   "cell_type": "code",
   "execution_count": 18,
   "id": "036dc45e",
   "metadata": {},
   "outputs": [
    {
     "data": {
      "text/plain": [
       "(40, 3)"
      ]
     },
     "execution_count": 18,
     "metadata": {},
     "output_type": "execute_result"
    }
   ],
   "source": [
    "X_train, X_test, y_train, y_test = train_test_split(X_imputed, y, test_size=0.2, random_state=42)\n",
    "X_test.shape"
   ]
  },
  {
   "cell_type": "code",
   "execution_count": 19,
   "id": "d99925b8",
   "metadata": {},
   "outputs": [
    {
     "data": {
      "text/html": [
       "<div>\n",
       "<style scoped>\n",
       "    .dataframe tbody tr th:only-of-type {\n",
       "        vertical-align: middle;\n",
       "    }\n",
       "\n",
       "    .dataframe tbody tr th {\n",
       "        vertical-align: top;\n",
       "    }\n",
       "\n",
       "    .dataframe thead th {\n",
       "        text-align: right;\n",
       "    }\n",
       "</style>\n",
       "<table border=\"1\" class=\"dataframe\">\n",
       "  <thead>\n",
       "    <tr style=\"text-align: right;\">\n",
       "      <th></th>\n",
       "      <th>TV</th>\n",
       "      <th>Radio</th>\n",
       "      <th>Newspaper</th>\n",
       "    </tr>\n",
       "  </thead>\n",
       "  <tbody>\n",
       "    <tr>\n",
       "      <th>0</th>\n",
       "      <td>116.0</td>\n",
       "      <td>7.7</td>\n",
       "      <td>23.1</td>\n",
       "    </tr>\n",
       "    <tr>\n",
       "      <th>1</th>\n",
       "      <td>177.0</td>\n",
       "      <td>9.3</td>\n",
       "      <td>6.4</td>\n",
       "    </tr>\n",
       "    <tr>\n",
       "      <th>2</th>\n",
       "      <td>43.1</td>\n",
       "      <td>26.7</td>\n",
       "      <td>35.1</td>\n",
       "    </tr>\n",
       "    <tr>\n",
       "      <th>3</th>\n",
       "      <td>62.3</td>\n",
       "      <td>12.6</td>\n",
       "      <td>18.3</td>\n",
       "    </tr>\n",
       "    <tr>\n",
       "      <th>4</th>\n",
       "      <td>224.0</td>\n",
       "      <td>2.4</td>\n",
       "      <td>15.6</td>\n",
       "    </tr>\n",
       "  </tbody>\n",
       "</table>\n",
       "</div>"
      ],
      "text/plain": [
       "      TV  Radio  Newspaper\n",
       "0  116.0    7.7       23.1\n",
       "1  177.0    9.3        6.4\n",
       "2   43.1   26.7       35.1\n",
       "3   62.3   12.6       18.3\n",
       "4  224.0    2.4       15.6"
      ]
     },
     "execution_count": 19,
     "metadata": {},
     "output_type": "execute_result"
    }
   ],
   "source": [
    "X_train_df = pd.DataFrame(X_train, columns=X.columns)\n",
    "X_test_df = pd.DataFrame(X_test, columns=X.columns)\n",
    "\n",
    "X_train_df.head()"
   ]
  },
  {
   "cell_type": "code",
   "execution_count": 20,
   "id": "fa7049eb",
   "metadata": {},
   "outputs": [
    {
     "data": {
      "text/plain": [
       "TV           0\n",
       "Radio        0\n",
       "Newspaper    0\n",
       "dtype: int64"
      ]
     },
     "execution_count": 20,
     "metadata": {},
     "output_type": "execute_result"
    }
   ],
   "source": [
    "X_test_df.isnull().sum()"
   ]
  },
  {
   "cell_type": "code",
   "execution_count": 21,
   "id": "d0c8efd1",
   "metadata": {},
   "outputs": [
    {
     "name": "stdout",
     "output_type": "stream",
     "text": [
      "Index([19, 152], dtype='int64')\n"
     ]
    }
   ],
   "source": [
    "# Get the indices where 'Radio' is missing\n",
    "missing_radio_indices = df[df['Radio'].isnull()].index\n",
    "print(missing_radio_indices)"
   ]
  },
  {
   "cell_type": "markdown",
   "id": "ab5fd0cb",
   "metadata": {},
   "source": [
    "# Question 1\n",
    "##### 1.\tWhat is the average amount spent on TV advertising in the dataset?"
   ]
  },
  {
   "cell_type": "code",
   "execution_count": 22,
   "id": "ede8fc7a",
   "metadata": {},
   "outputs": [
    {
     "name": "stdout",
     "output_type": "stream",
     "text": [
      "Average amount spent on TV advertising is  147.0425\n"
     ]
    }
   ],
   "source": [
    "print(\"Average amount spent on TV advertising is \",df['TV'].mean())"
   ]
  },
  {
   "cell_type": "markdown",
   "id": "105cecbf",
   "metadata": {},
   "source": [
    "# Question 2\n",
    "##### 2.\tWhat is the correlation between radio advertising expenditure and product sales?"
   ]
  },
  {
   "cell_type": "code",
   "execution_count": 23,
   "id": "97feed86",
   "metadata": {},
   "outputs": [
    {
     "name": "stdout",
     "output_type": "stream",
     "text": [
      "Correlation between radio advertising expenditure and product sales is: 0.34972771292078386\n"
     ]
    }
   ],
   "source": [
    "correlation = df['Radio'].corr(df['Sales'])\n",
    "print(\"Correlation between radio advertising expenditure and product sales is:\", correlation)"
   ]
  },
  {
   "cell_type": "markdown",
   "id": "d1a98de8",
   "metadata": {},
   "source": [
    "# Question 3 \n",
    "##### 3.\tWhich advertising medium has the highest impact on sales based on the dataset?"
   ]
  },
  {
   "cell_type": "code",
   "execution_count": 24,
   "id": "d7ddeee8",
   "metadata": {},
   "outputs": [
    {
     "name": "stdout",
     "output_type": "stream",
     "text": [
      "TV           0.901208\n",
      "Radio        0.349728\n",
      "Newspaper    0.157960\n",
      "Name: Sales, dtype: float64\n"
     ]
    }
   ],
   "source": [
    "correlations = df[['TV', 'Radio', 'Newspaper', 'Sales']].corr()\n",
    "print(correlations['Sales'].drop('Sales'))"
   ]
  },
  {
   "cell_type": "markdown",
   "id": "8a21935d",
   "metadata": {},
   "source": [
    "# Question 4\n",
    "##### 4.\tPlot a linear regression line that includes all variables (TV, Radio, Newspaper) to predict Sales, and visualize the model's predictions against the actual sales values."
   ]
  },
  {
   "cell_type": "code",
   "execution_count": 25,
   "id": "d7d37942",
   "metadata": {},
   "outputs": [
    {
     "data": {
      "text/plain": [
       "(40,)"
      ]
     },
     "execution_count": 25,
     "metadata": {},
     "output_type": "execute_result"
    }
   ],
   "source": [
    "y_test.shape"
   ]
  },
  {
   "cell_type": "code",
   "execution_count": 27,
   "id": "3d2cb456",
   "metadata": {},
   "outputs": [
    {
     "data": {
      "image/png": "[encoded data removed]",
      "text/plain": [
       "<Figure size 800x600 with 1 Axes>"
      ]
     },
     "metadata": {},
     "output_type": "display_data"
    }
   ],
   "source": [
    "from sklearn.linear_model import LinearRegression\n",
    "\n",
    "lr = LinearRegression()\n",
    "lr.fit(X_train, y_train)\n",
    "\n",
    "# Predict on test set\n",
    "y_pred = lr.predict(X_test)\n",
    "y_pred.shape\n",
    "\n",
    "# Plot actual vs predicted sales\n",
    "plt.figure(figsize=(8,6))\n",
    "plt.scatter(y_test, y_pred, color='blue')\n",
    "plt.plot([y_test.min(), y_test.max()], [y_pred.min(), y_pred.max()], color = 'red')\n",
    "plt.xlabel('Actual Sales')\n",
    "plt.ylabel('Predicted Sales')\n",
    "plt.title('Actual vs Predicted Sales (Linear Regression)')\n",
    "plt.show()"
   ]
  },
  {
   "cell_type": "code",
   "execution_count": 28,
   "id": "18939949",
   "metadata": {},
   "outputs": [
    {
     "data": {
      "text/plain": [
       "(40, 3)"
      ]
     },
     "execution_count": 28,
     "metadata": {},
     "output_type": "execute_result"
    }
   ],
   "source": [
    "X_test.shape"
   ]
  },
  {
   "cell_type": "code",
   "execution_count": 29,
   "id": "875dc4a7",
   "metadata": {},
   "outputs": [
    {
     "name": "stdout",
     "output_type": "stream",
     "text": [
      "R2 score: 0.9059117026092903\n",
      "Mean Squared Error: 2.9074318865000572\n",
      "Mean Absolute Error: 1.2747707135511097\n"
     ]
    }
   ],
   "source": [
    "from sklearn.metrics import r2_score, mean_squared_error, mean_absolute_error\n",
    "r2 = r2_score(y_test, y_pred)\n",
    "print(\"R2 score:\", r2)\n",
    "\n",
    "# Mean Squared Error\n",
    "mse = mean_squared_error(y_test, y_pred)\n",
    "print(\"Mean Squared Error:\", mse)\n",
    "\n",
    "# Mean Absolute Error\n",
    "mae = mean_absolute_error(y_test, y_pred)\n",
    "print(\"Mean Absolute Error:\", mae)\n"
   ]
  },
  {
   "cell_type": "code",
   "execution_count": 31,
   "id": "48e31391",
   "metadata": {},
   "outputs": [
    {
     "data": {
      "text/plain": [
       "array([0.05450899, 0.10096678, 0.00431997])"
      ]
     },
     "execution_count": 31,
     "metadata": {},
     "output_type": "execute_result"
    }
   ],
   "source": [
    "lr.coef_"
   ]
  },
  {
   "cell_type": "markdown",
   "id": "4dec02ea",
   "metadata": {},
   "source": [
    "# Question 5\n",
    "##### 5.\tHow would sales be predicted for a new set of advertising expenditures: $200 on TV, $40 on Radio, and $50 on Newspaper?"
   ]
  },
  {
   "cell_type": "code",
   "execution_count": 32,
   "id": "7d1e2707",
   "metadata": {},
   "outputs": [
    {
     "name": "stdout",
     "output_type": "stream",
     "text": [
      "Predicted Sales: 27.304295796953348\n"
     ]
    }
   ],
   "source": [
    "new_data = [[40, 200, 50]]\n",
    "predicted_sales = lr.predict(new_data)\n",
    "print(\"Predicted Sales:\", predicted_sales[0])"
   ]
  },
  {
   "cell_type": "markdown",
   "id": "f6353ada",
   "metadata": {},
   "source": [
    "# Question 6\n",
    "##### 6.\tHow does the performance of the linear regression model change when the dataset is normalized?"
   ]
  },
  {
   "cell_type": "code",
   "execution_count": 33,
   "id": "95097c28",
   "metadata": {},
   "outputs": [
    {
     "name": "stdout",
     "output_type": "stream",
     "text": [
      "R2 score (standardized): 0.9059117026092904\n",
      "MSE (standardized): 2.907431886500056\n",
      "MAE (standardized): 1.2747707135511095\n",
      "R2 score (normalized): 0.9059117026092904\n",
      "MSE (normalized): 2.907431886500056\n",
      "MAE (normalized): 1.2747707135511095\n"
     ]
    }
   ],
   "source": [
    "from sklearn.preprocessing import StandardScaler\n",
    "from sklearn.preprocessing import MinMaxScaler\n",
    "from sklearn.linear_model import LinearRegression\n",
    "from sklearn.metrics import r2_score, mean_squared_error, mean_absolute_error\n",
    "\n",
    "# Normalize features\n",
    "scaler1 = StandardScaler()\n",
    "X_train_scaled1 = scaler1.fit_transform(X_train)\n",
    "X_test_scaled1 = scaler1.transform(X_test)\n",
    "\n",
    "# Train model on normalized data\n",
    "lr_norm1 = LinearRegression()\n",
    "lr_norm1.fit(X_train_scaled1, y_train)\n",
    "y_pred_norm1 = lr_norm1.predict(X_test_scaled1)\n",
    "\n",
    "# Evaluate performance\n",
    "print(\"R2 score (standardized):\", r2_score(y_test, y_pred_norm1))\n",
    "print(\"MSE (standardized):\", mean_squared_error(y_test, y_pred_norm1))\n",
    "print(\"MAE (standardized):\", mean_absolute_error(y_test, y_pred_norm1))\n",
    "\n",
    "\n",
    "# Normalize features\n",
    "scaler1 = MinMaxScaler()\n",
    "X_train_scaled2 = scaler1.fit_transform(X_train)\n",
    "X_test_scaled2 = scaler1.transform(X_test)\n",
    "\n",
    "# Train model on normalized data\n",
    "lr_norm2 = LinearRegression()\n",
    "lr_norm2.fit(X_train_scaled1, y_train)\n",
    "y_pred_norm2 = lr_norm2.predict(X_test_scaled1)\n",
    "\n",
    "# Evaluate performance\n",
    "print(\"R2 score (normalized):\", r2_score(y_test, y_pred_norm2))\n",
    "print(\"MSE (normalized):\", mean_squared_error(y_test, y_pred_norm2))\n",
    "print(\"MAE (normalized):\", mean_absolute_error(y_test, y_pred_norm2))"
   ]
  },
  {
   "cell_type": "markdown",
   "id": "c4d7b805",
   "metadata": {},
   "source": [
    "Linear regression is not affected by feature scaling (normalization or standardization) in terms of predictions and metrics like R2, MSE, and MAE.\n",
    "\n",
    "The model automatically adjusts its coefficients to account for the scale of each feature.\n",
    "\n",
    "So, normalizing the features does not change the predictions or the fit for standard linear regression."
   ]
  },
  {
   "cell_type": "markdown",
   "id": "71e2b70b",
   "metadata": {},
   "source": [
    "# Question 7\n",
    "##### 7.\tWhat is the impact on the sales prediction when only radio and newspaper advertising expenditures are used as predictors?"
   ]
  },
  {
   "cell_type": "code",
   "execution_count": 34,
   "id": "eeedf787",
   "metadata": {},
   "outputs": [
    {
     "name": "stdout",
     "output_type": "stream",
     "text": [
      "R2 score (Radio & Newspaper only): 0.10998637077378093\n",
      "MSE (Radio & Newspaper only): 27.502400158082317\n",
      "MAE (Radio & Newspaper only): 4.582659422708264\n"
     ]
    }
   ],
   "source": [
    "from sklearn.impute import SimpleImputer\n",
    "\n",
    "# Select features and target\n",
    "X2 = df[['Radio', 'Newspaper']]\n",
    "y2 = df['Sales']\n",
    "\n",
    "# Impute missing values in X2\n",
    "imputer = SimpleImputer(strategy='mean')\n",
    "X2_imputed = imputer.fit_transform(X2)\n",
    "\n",
    "# Split the data\n",
    "from sklearn.model_selection import train_test_split\n",
    "X2_train, X2_test, y2_train, y2_test = train_test_split(X2_imputed, y2, test_size=0.2, random_state=42)\n",
    "\n",
    "# Train the model\n",
    "from sklearn.linear_model import LinearRegression\n",
    "lr2 = LinearRegression()\n",
    "lr2.fit(X2_train, y2_train)\n",
    "\n",
    "# Predict and evaluate\n",
    "from sklearn.metrics import r2_score, mean_squared_error, mean_absolute_error\n",
    "y2_pred = lr2.predict(X2_test)\n",
    "\n",
    "print(\"R2 score (Radio & Newspaper only):\", r2_score(y2_test, y2_pred))\n",
    "print(\"MSE (Radio & Newspaper only):\", mean_squared_error(y2_test, y2_pred))\n",
    "print(\"MAE (Radio & Newspaper only):\", mean_absolute_error(y2_test, y2_pred))"
   ]
  }
 ],
 "metadata": {
  "kernelspec": {
   "display_name": "Python 3",
   "language": "python",
   "name": "python3"
  },
  "language_info": {
   "codemirror_mode": {
    "name": "ipython",
    "version": 3
   },
   "file_extension": ".py",
   "mimetype": "text/x-python",
   "name": "python",
   "nbconvert_exporter": "python",
   "pygments_lexer": "ipython3",
   "version": "3.13.1"
  }
 },
 "nbformat": 4,
 "nbformat_minor": 5
}
